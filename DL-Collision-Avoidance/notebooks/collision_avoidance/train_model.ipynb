{
 "cells": [
  {
   "cell_type": "markdown",
   "metadata": {},
   "source": [
    "# Collision Avoidance - Train Model\n",
    "\n",
    "Welcome to this host side Jupyter Notebook!  This should look familiar if you ran through the notebooks that run on the robot.  In this notebook we'll train our image classifier to detect two classes\n",
    "``free`` and ``blocked``, which we'll use for avoiding collisions.  For this, we'll use a popular deep learning library *PyTorch*"
   ]
  },
  {
   "cell_type": "code",
   "execution_count": 1,
   "metadata": {},
   "outputs": [],
   "source": [
    "import os\n",
    "os.environ['CUDA_LAUNCH_BLOCKING'] = \"1\""
   ]
  },
  {
   "cell_type": "code",
   "execution_count": 2,
   "metadata": {},
   "outputs": [],
   "source": [
    "import torch\n",
    "import torch.optim as optim\n",
    "import torch.nn.functional as F\n",
    "import torchvision\n",
    "import torchvision.datasets as datasets\n",
    "import torchvision.models as models\n",
    "import torchvision.transforms as transforms"
   ]
  },
  {
   "cell_type": "markdown",
   "metadata": {},
   "source": [
    "### Upload and extract dataset\n",
    "\n",
    "Before you start, you should upload the ``dataset.zip`` file that you created in the ``data_collection.ipynb`` notebook on the robot.\n",
    "\n",
    "You should then extract this dataset by calling the command below"
   ]
  },
  {
   "cell_type": "code",
   "execution_count": 3,
   "metadata": {},
   "outputs": [],
   "source": [
    "#!unzip -q dataset.zip"
   ]
  },
  {
   "cell_type": "markdown",
   "metadata": {},
   "source": [
    "You should see a folder named ``dataset`` appear in the file browser."
   ]
  },
  {
   "cell_type": "markdown",
   "metadata": {},
   "source": [
    "### Create dataset instance"
   ]
  },
  {
   "cell_type": "markdown",
   "metadata": {},
   "source": [
    "Now we use the ``ImageFolder`` dataset class available with the ``torchvision.datasets`` package.  We attach transforms from the ``torchvision.transforms`` package to prepare the data for training.  "
   ]
  },
  {
   "cell_type": "code",
   "execution_count": 4,
   "metadata": {},
   "outputs": [
    {
     "name": "stdout",
     "output_type": "stream",
     "text": [
      "49\n",
      "['left', 'right', 'stop', 'straight']\n"
     ]
    }
   ],
   "source": [
    "dataset = datasets.ImageFolder(\n",
    "    'dataset',\n",
    "    transforms.Compose([\n",
    "        transforms.ColorJitter(0.1, 0.1, 0.1, 0.1),\n",
    "        transforms.Resize((224, 224)),\n",
    "        transforms.ToTensor(),\n",
    "        transforms.Normalize([0.485, 0.456, 0.406], [0.229, 0.224, 0.225])\n",
    "    ])\n",
    ")\n",
    "\n",
    "print(len(dataset))\n",
    "print(dataset.classes)\n",
    "      \n",
    "# for elem in dataset:\n",
    "#    print(elem)"
   ]
  },
  {
   "cell_type": "markdown",
   "metadata": {},
   "source": [
    "### Split dataset into train and test sets"
   ]
  },
  {
   "cell_type": "markdown",
   "metadata": {},
   "source": [
    "Next, we split the dataset into *training* and *test* sets.  The test set will be used to verify the accuracy of the model we train."
   ]
  },
  {
   "cell_type": "code",
   "execution_count": 6,
   "metadata": {},
   "outputs": [
    {
     "name": "stdout",
     "output_type": "stream",
     "text": [
      "39 10\n"
     ]
    }
   ],
   "source": [
    "train_len=int(round(len(dataset)*0.4, 0))\n",
    "test_len=len(dataset)-train_len\n",
    "print(train_len,test_len)\n",
    "\n",
    "train_dataset, test_dataset = torch.utils.data.random_split(dataset, [train_len, test_len])"
   ]
  },
  {
   "cell_type": "markdown",
   "metadata": {},
   "source": [
    "### Create data loaders to load data in batches"
   ]
  },
  {
   "cell_type": "markdown",
   "metadata": {},
   "source": [
    "We'll create two ``DataLoader`` instances, which provide utilities for shuffling data, producing *batches* of images, and loading the samples in parallel with multiple workers."
   ]
  },
  {
   "cell_type": "code",
   "execution_count": 7,
   "metadata": {},
   "outputs": [
    {
     "name": "stdout",
     "output_type": "stream",
     "text": [
      "10\n",
      "39\n"
     ]
    }
   ],
   "source": [
    "train_loader = torch.utils.data.DataLoader(\n",
    "    train_dataset,\n",
    "    batch_size=16,\n",
    "    shuffle=True,\n",
    "    num_workers=4\n",
    ")\n",
    "\n",
    "test_loader = torch.utils.data.DataLoader(\n",
    "    test_dataset,\n",
    "    batch_size=16,\n",
    "    shuffle=True,\n",
    "    num_workers=4\n",
    ")\n",
    "\n",
    "print(len(test_dataset))\n",
    "print(len(train_dataset))\n",
    "\n"
   ]
  },
  {
   "cell_type": "markdown",
   "metadata": {},
   "source": [
    "### Define the neural network\n",
    "\n",
    "Now, we define the neural network we'll be training.  The *torchvision* package provides a collection of pre-trained models that we can use.\n",
    "\n",
    "In a process called *transfer learning*, we can repurpose a pre-trained model (trained on millions of images) for a new task that has possibly much less data available.\n",
    "\n",
    "Important features that were learned in the original training of the pre-trained model are re-usable for the new task.  We'll use the ``alexnet`` model."
   ]
  },
  {
   "cell_type": "code",
   "execution_count": 8,
   "metadata": {},
   "outputs": [],
   "source": [
    "model = models.alexnet(pretrained=True)\n"
   ]
  },
  {
   "cell_type": "markdown",
   "metadata": {},
   "source": [
    "The ``alexnet`` model was originally trained for a dataset that had 1000 class labels, but our dataset only has two class labels!  We'll replace\n",
    "the final layer with a new, untrained layer that has only two outputs.  "
   ]
  },
  {
   "cell_type": "code",
   "execution_count": 9,
   "metadata": {},
   "outputs": [],
   "source": [
    "#print(model)"
   ]
  },
  {
   "cell_type": "code",
   "execution_count": 10,
   "metadata": {},
   "outputs": [],
   "source": [
    "model.classifier[6] = torch.nn.Linear(model.classifier[6].in_features, 4)"
   ]
  },
  {
   "cell_type": "markdown",
   "metadata": {},
   "source": [
    "Finally, we transfer our model for execution on the GPU"
   ]
  },
  {
   "cell_type": "code",
   "execution_count": 11,
   "metadata": {},
   "outputs": [
    {
     "name": "stdout",
     "output_type": "stream",
     "text": [
      "AlexNet(\n",
      "  (features): Sequential(\n",
      "    (0): Conv2d(3, 64, kernel_size=(11, 11), stride=(4, 4), padding=(2, 2))\n",
      "    (1): ReLU(inplace)\n",
      "    (2): MaxPool2d(kernel_size=3, stride=2, padding=0, dilation=1, ceil_mode=False)\n",
      "    (3): Conv2d(64, 192, kernel_size=(5, 5), stride=(1, 1), padding=(2, 2))\n",
      "    (4): ReLU(inplace)\n",
      "    (5): MaxPool2d(kernel_size=3, stride=2, padding=0, dilation=1, ceil_mode=False)\n",
      "    (6): Conv2d(192, 384, kernel_size=(3, 3), stride=(1, 1), padding=(1, 1))\n",
      "    (7): ReLU(inplace)\n",
      "    (8): Conv2d(384, 256, kernel_size=(3, 3), stride=(1, 1), padding=(1, 1))\n",
      "    (9): ReLU(inplace)\n",
      "    (10): Conv2d(256, 256, kernel_size=(3, 3), stride=(1, 1), padding=(1, 1))\n",
      "    (11): ReLU(inplace)\n",
      "    (12): MaxPool2d(kernel_size=3, stride=2, padding=0, dilation=1, ceil_mode=False)\n",
      "  )\n",
      "  (avgpool): AdaptiveAvgPool2d(output_size=(6, 6))\n",
      "  (classifier): Sequential(\n",
      "    (0): Dropout(p=0.5)\n",
      "    (1): Linear(in_features=9216, out_features=4096, bias=True)\n",
      "    (2): ReLU(inplace)\n",
      "    (3): Dropout(p=0.5)\n",
      "    (4): Linear(in_features=4096, out_features=4096, bias=True)\n",
      "    (5): ReLU(inplace)\n",
      "    (6): Linear(in_features=4096, out_features=4, bias=True)\n",
      "  )\n",
      ")\n"
     ]
    }
   ],
   "source": [
    "print(model)"
   ]
  },
  {
   "cell_type": "code",
   "execution_count": 12,
   "metadata": {},
   "outputs": [
    {
     "name": "stdout",
     "output_type": "stream",
     "text": [
      "10.0.117\n",
      "cuda\n",
      "39\n"
     ]
    }
   ],
   "source": [
    "device = torch.device('cuda')\n",
    "model = model.to(device)\n",
    "\n",
    "print(torch.version.cuda)\n",
    "print(device)\n",
    "\n",
    "print(len(train_loader.dataset))"
   ]
  },
  {
   "cell_type": "markdown",
   "metadata": {},
   "source": [
    "### Train the neural network\n",
    "\n",
    "Using the code below we will train the neural network for 30 epochs, saving the best performing model after each epoch.\n",
    "\n",
    "> An epoch is a full run through our data."
   ]
  },
  {
   "cell_type": "code",
   "execution_count": 13,
   "metadata": {
    "scrolled": true
   },
   "outputs": [
    {
     "name": "stdout",
     "output_type": "stream",
     "text": [
      "Train 16 16\n",
      "Train 16 16\n",
      "Train 7 7\n",
      "Test\n",
      "0: 0.300000\n",
      "Train 16 16\n",
      "Train 16 16\n",
      "Train 7 7\n",
      "Test\n",
      "1: 0.600000\n",
      "Train 16 16\n",
      "Train 16 16\n",
      "Train 7 7\n",
      "Test\n",
      "2: 0.900000\n",
      "Train 16 16\n",
      "Train 16 16\n",
      "Train 7 7\n",
      "Test\n",
      "3: 0.400000\n",
      "Train 16 16\n",
      "Train 16 16\n",
      "Train 7 7\n",
      "Test\n",
      "4: 0.800000\n",
      "Train 16 16\n",
      "Train 16 16\n",
      "Train 7 7\n",
      "Test\n",
      "5: 0.700000\n",
      "Train 16 16\n",
      "Train 16 16\n",
      "Train 7 7\n",
      "Test\n",
      "6: 0.800000\n",
      "Train 16 16\n",
      "Train 16 16\n",
      "Train 7 7\n",
      "Test\n",
      "7: 0.700000\n",
      "Train 16 16\n",
      "Train 16 16\n",
      "Train 7 7\n",
      "Test\n",
      "8: 0.700000\n",
      "Train 16 16\n",
      "Train 16 16\n",
      "Train 7 7\n",
      "Test\n",
      "9: 0.700000\n",
      "Train 16 16\n",
      "Train 16 16\n",
      "Train 7 7\n",
      "Test\n",
      "10: 0.600000\n",
      "Train 16 16\n",
      "Train 16 16\n",
      "Train 7 7\n",
      "Test\n",
      "11: 0.900000\n",
      "Train 16 16\n",
      "Train 16 16\n",
      "Train 7 7\n",
      "Test\n",
      "12: 0.900000\n",
      "Train 16 16\n",
      "Train 16 16\n",
      "Train 7 7\n",
      "Test\n",
      "13: 1.000000\n",
      "Train 16 16\n",
      "Train 16 16\n",
      "Train 7 7\n",
      "Test\n",
      "14: 0.700000\n",
      "Train 16 16\n",
      "Train 16 16\n",
      "Train 7 7\n",
      "Test\n",
      "15: 0.900000\n",
      "Train 16 16\n",
      "Train 16 16\n",
      "Train 7 7\n",
      "Test\n",
      "16: 0.600000\n",
      "Train 16 16\n",
      "Train 16 16\n",
      "Train 7 7\n",
      "Test\n",
      "17: 0.800000\n",
      "Train 16 16\n",
      "Train 16 16\n",
      "Train 7 7\n",
      "Test\n",
      "18: 0.600000\n",
      "Train 16 16\n",
      "Train 16 16\n",
      "Train 7 7\n",
      "Test\n",
      "19: 0.500000\n",
      "Train 16 16\n",
      "Train 16 16\n",
      "Train 7 7\n",
      "Test\n",
      "20: 0.700000\n",
      "Train 16 16\n",
      "Train 16 16\n",
      "Train 7 7\n",
      "Test\n",
      "21: 1.000000\n",
      "Train 16 16\n",
      "Train 16 16\n",
      "Train 7 7\n",
      "Test\n",
      "22: 0.800000\n",
      "Train 16 16\n",
      "Train 16 16\n",
      "Train 7 7\n",
      "Test\n",
      "23: 1.000000\n",
      "Train 16 16\n",
      "Train 16 16\n",
      "Train 7 7\n",
      "Test\n",
      "24: 0.900000\n",
      "Train 16 16\n",
      "Train 16 16\n",
      "Train 7 7\n",
      "Test\n",
      "25: 0.800000\n",
      "Train 16 16\n",
      "Train 16 16\n",
      "Train 7 7\n",
      "Test\n",
      "26: 0.800000\n",
      "Train 16 16\n",
      "Train 16 16\n",
      "Train 7 7\n",
      "Test\n",
      "27: 0.900000\n",
      "Train 16 16\n",
      "Train 16 16\n",
      "Train 7 7\n",
      "Test\n",
      "28: 0.800000\n",
      "Train 16 16\n",
      "Train 16 16\n",
      "Train 7 7\n",
      "Test\n",
      "29: 0.900000\n"
     ]
    }
   ],
   "source": [
    "NUM_EPOCHS = 30\n",
    "BEST_MODEL_PATH = 'best_model.pth'\n",
    "best_accuracy = 0.0\n",
    "\n",
    "optimizer = optim.SGD(model.parameters(), lr=0.001, momentum=0.9)\n",
    "\n",
    "for epoch in range(NUM_EPOCHS):\n",
    "    \n",
    "    for images, labels in iter(train_loader):\n",
    "        images = images.to(device)\n",
    "        labels = labels.to(device)\n",
    "        print('Train', len(labels), len(images))\n",
    "        optimizer.zero_grad()\n",
    "        outputs = model(images)\n",
    "#        print(outputs)\n",
    "        loss = F.cross_entropy(outputs, labels)\n",
    "        loss.backward()\n",
    "        optimizer.step()\n",
    "    \n",
    "    test_error_count = 0.0\n",
    "    for images, labels in iter(test_loader):\n",
    "        print('Test')\n",
    "        images = images.to(device)\n",
    "        labels = labels.to(device)\n",
    "        outputs = model(images)\n",
    "        test_error_count += float(torch.sum(torch.abs(labels - outputs.argmax(1))))\n",
    "    \n",
    "    test_accuracy = 1.0 - float(test_error_count) / float(len(test_dataset))\n",
    "    print('%d: %f' % (epoch, test_accuracy))\n",
    "    if test_accuracy > best_accuracy:\n",
    "        torch.save(model.state_dict(), BEST_MODEL_PATH)\n",
    "        best_accuracy = test_accuracy"
   ]
  },
  {
   "cell_type": "markdown",
   "metadata": {},
   "source": [
    "Once that is finished, you should see a file ``best_model.pth`` in the Jupyter Lab file browser.  Select ``Right click`` -> ``Download`` to download the model to your workstation"
   ]
  }
 ],
 "metadata": {
  "kernelspec": {
   "display_name": "Python 3",
   "language": "python",
   "name": "python3"
  },
  "language_info": {
   "codemirror_mode": {
    "name": "ipython",
    "version": 3
   },
   "file_extension": ".py",
   "mimetype": "text/x-python",
   "name": "python",
   "nbconvert_exporter": "python",
   "pygments_lexer": "ipython3",
   "version": "3.6.9"
  }
 },
 "nbformat": 4,
 "nbformat_minor": 2
}
